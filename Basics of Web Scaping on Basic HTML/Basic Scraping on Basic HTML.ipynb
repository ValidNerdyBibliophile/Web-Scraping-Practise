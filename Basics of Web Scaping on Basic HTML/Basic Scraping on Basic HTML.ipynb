{
 "cells": [
  {
   "cell_type": "markdown",
   "id": "ae1032c8",
   "metadata": {},
   "source": [
    "#### Libraries Needed"
   ]
  },
  {
   "cell_type": "markdown",
   "id": "6cf91d06",
   "metadata": {},
   "source": [
    "- BeautifulSoup: It's a ibrary for ***pulling data out of HTML and XML files.*** It works with your favorite parser to provide idiomatic ways of navigating, searching, and modifying the parse tree.\n",
    "\n",
    "- Parser Method: So whenever we gonna use BeautifulSoup, we have to specify the method that we gonna parse html file into python objects. ***The best of all the parser is lmxl.***"
   ]
  },
  {
   "cell_type": "code",
   "execution_count": 1,
   "id": "f1e06f96",
   "metadata": {},
   "outputs": [],
   "source": [
    "from bs4 import BeautifulSoup as bs"
   ]
  },
  {
   "cell_type": "markdown",
   "id": "5307bb67",
   "metadata": {},
   "source": [
    "So I've created a dummy html file, and to access it we gonna read the file.  \n",
    "- with open : will allow me to open a file and read the content of the specific file.\n",
    "- \"r\" : method that i want to apply to open that file in the python memory, i.e whether to read or write or both. \"r\" tells python that I'm going to read that file only.\n",
    "- as variable_name : A variable that is going to be used inside of the code block that we just created with open. So we use ***as*** keyword.\n",
    "- read() : reading the file content."
   ]
  },
  {
   "cell_type": "code",
   "execution_count": 2,
   "id": "a1219e3e",
   "metadata": {},
   "outputs": [
    {
     "name": "stdout",
     "output_type": "stream",
     "text": [
      "<!DOCTYPE html>\n",
      "<html lang=\"en\">\n",
      " <head>\n",
      "  <meta charset=\"utf-8\"/>\n",
      "  <meta content=\"width=device-width, initial-scale=1, shrink-to-fit=no\" name=\"viewport\"/>\n",
      "  <link crossorigin=\"anonymous\" href=\"https://stackpath.bootstrapcdn.com/bootstrap/4.5.2/css/bootstrap.min.css\" integrity=\"sha384-JcKb8q3iqJ61gNV9KGb8thSsNjpSL0n8PARn9HuZOnIxN0hoP+VmmDGMN5t9UJ0Z\" rel=\"stylesheet\"/>\n",
      "  <title>\n",
      "   Courses\n",
      "  </title>\n",
      " </head>\n",
      " <body>\n",
      "  <h1>\n",
      "   Hello, Start Learning!\n",
      "  </h1>\n",
      "  <div class=\"card\" id=\"card-python-for-beginners\">\n",
      "   <div class=\"card-header\">\n",
      "    Python\n",
      "   </div>\n",
      "   <div class=\"card-body\">\n",
      "    <h5 class=\"card-title\">\n",
      "     Python for beginners\n",
      "    </h5>\n",
      "    <p class=\"card-text\">\n",
      "     If you are new to Python, this is the course that you should buy!\n",
      "    </p>\n",
      "    <a class=\"btn btn-primary\" href=\"#\">\n",
      "     Start for 1000 INR\n",
      "    </a>\n",
      "   </div>\n",
      "  </div>\n",
      "  <div class=\"card\" id=\"card-python-web-development\">\n",
      "   <div class=\"card-header\">\n",
      "    Python\n",
      "   </div>\n",
      "   <div class=\"card-body\">\n",
      "    <h5 class=\"card-title\">\n",
      "     Python Web Development\n",
      "    </h5>\n",
      "    <p class=\"card-text\">\n",
      "     If you feel enough confident with python, you are ready to learn how to create your own website!\n",
      "    </p>\n",
      "    <a class=\"btn btn-primary\" href=\"#\">\n",
      "     Start for 5000 INR\n",
      "    </a>\n",
      "   </div>\n",
      "  </div>\n",
      "  <div class=\"card\" id=\"card-python-machine-learning\">\n",
      "   <div class=\"card-header\">\n",
      "    Python\n",
      "   </div>\n",
      "   <div class=\"card-body\">\n",
      "    <h5 class=\"card-title\">\n",
      "     Python Machine Learning\n",
      "    </h5>\n",
      "    <p class=\"card-text\">\n",
      "     Become a Python Machine Learning master!\n",
      "    </p>\n",
      "    <a class=\"btn btn-primary\" href=\"#\">\n",
      "     Start for 10000 INR\n",
      "    </a>\n",
      "   </div>\n",
      "  </div>\n",
      " </body>\n",
      "</html>\n",
      "\n"
     ]
    }
   ],
   "source": [
    "#Accesing content from home.html i.e. my local html file I created.\n",
    "\n",
    "with open(\"E:\\Web Scraping\\home.html\", \"r\") as html_file:\n",
    "    content = html_file.read()\n",
    "\n",
    "    #creating an instance of Beautiful Soup\n",
    "    soup = bs(content, \"lxml\") #parsermethod\n",
    "    \n",
    "    print(soup.prettify())"
   ]
  },
  {
   "cell_type": "markdown",
   "id": "b4f933b2",
   "metadata": {},
   "source": [
    "#### Grabbing Some Specific Information"
   ]
  },
  {
   "cell_type": "markdown",
   "id": "315e3353",
   "metadata": {},
   "source": [
    "Suppose, we want to grab all the html tags that are created as h5 tag."
   ]
  },
  {
   "cell_type": "markdown",
   "id": "9cea84fd",
   "metadata": {},
   "source": [
    "### find()\n",
    "\n",
    "- Is gonna search for a specific html tag that i will specify."
   ]
  },
  {
   "cell_type": "code",
   "execution_count": 3,
   "id": "91735f7b",
   "metadata": {},
   "outputs": [
    {
     "data": {
      "text/plain": [
       "<h5 class=\"card-title\">Python for beginners</h5>"
      ]
     },
     "execution_count": 3,
     "metadata": {},
     "output_type": "execute_result"
    }
   ],
   "source": [
    "tags = soup.find(\"h5\")\n",
    "tags"
   ]
  },
  {
   "cell_type": "markdown",
   "id": "f50b397e",
   "metadata": {},
   "source": [
    "As we can see, it has grabbed the h5 tag in our file. But if u remember, our html file has more than 1 h5 tag. So that means, the ***find() searches for the first element that is specified and then it stops the execution.***"
   ]
  },
  {
   "cell_type": "markdown",
   "id": "d99cf4cd",
   "metadata": {},
   "source": [
    "### find_all()\n",
    "- So if we want to find all the occurences of the specified tag, we use find_all()"
   ]
  },
  {
   "cell_type": "code",
   "execution_count": 4,
   "id": "e128d741",
   "metadata": {},
   "outputs": [
    {
     "data": {
      "text/plain": [
       "[<h5 class=\"card-title\">Python for beginners</h5>,\n",
       " <h5 class=\"card-title\">Python Web Development</h5>,\n",
       " <h5 class=\"card-title\">Python Machine Learning</h5>]"
      ]
     },
     "execution_count": 4,
     "metadata": {},
     "output_type": "execute_result"
    }
   ],
   "source": [
    "tags = soup.find_all(\"h5\")\n",
    "tags"
   ]
  },
  {
   "cell_type": "markdown",
   "id": "195097bf",
   "metadata": {},
   "source": [
    "So if we want to find what all courses are available on the site. We can now use the tags variable."
   ]
  },
  {
   "cell_type": "code",
   "execution_count": 5,
   "id": "dd1bdb25",
   "metadata": {},
   "outputs": [
    {
     "name": "stdout",
     "output_type": "stream",
     "text": [
      "Python for beginners\n",
      "Python Web Development\n",
      "Python Machine Learning\n"
     ]
    }
   ],
   "source": [
    "for course in tags:\n",
    "    print(course.text)"
   ]
  },
  {
   "cell_type": "code",
   "execution_count": null,
   "id": "50446862",
   "metadata": {},
   "outputs": [],
   "source": []
  }
 ],
 "metadata": {
  "kernelspec": {
   "display_name": "Python 3",
   "language": "python",
   "name": "python3"
  },
  "language_info": {
   "codemirror_mode": {
    "name": "ipython",
    "version": 3
   },
   "file_extension": ".py",
   "mimetype": "text/x-python",
   "name": "python",
   "nbconvert_exporter": "python",
   "pygments_lexer": "ipython3",
   "version": "3.8.8"
  }
 },
 "nbformat": 4,
 "nbformat_minor": 5
}
